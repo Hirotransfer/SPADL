{
 "cells": [
  {
   "cell_type": "code",
   "execution_count": 1,
   "metadata": {},
   "outputs": [],
   "source": [
    "%load_ext autoreload\n",
    "%autoreload 2\n",
    "import os; import sys;\n",
    "import tqdm\n",
    "import requests\n",
    "import math\n",
    "import zipfile"
   ]
  },
  {
   "cell_type": "code",
   "execution_count": 2,
   "metadata": {},
   "outputs": [],
   "source": [
    "datafolder = \"../data\"\n",
    "statsbombzip = os.path.join(datafolder, \"statsbomb-open-data.zip\")\n",
    "statsbombroot = os.path.join(datafolder, \"statsbomb-root\")\n",
    "statsbombdata = os.path.join(datafolder, \"statsbomb-root\", \"open-data-master\", \"data\")"
   ]
  },
  {
   "cell_type": "code",
   "execution_count": 3,
   "metadata": {},
   "outputs": [],
   "source": [
    "# Create data folder if it doesn't exist\n",
    "if not os.path.exists(datafolder):\n",
    "    os.mkdir(datafolder)\n",
    "    print(f\"Directory {datafolder} created \")"
   ]
  },
  {
   "cell_type": "code",
   "execution_count": 11,
   "metadata": {},
   "outputs": [
    {
     "name": "stderr",
     "output_type": "stream",
     "text": [
      "\n",
      "\n",
      "\n",
      "\n",
      "0MB [00:00, ?MB/s]\u001b[A\u001b[A\u001b[A\u001b[A\n",
      "\n",
      "\n",
      "\n",
      "2MB [00:00,  9.45MB/s]\u001b[A\u001b[A\u001b[A\u001b[A\n"
     ]
    }
   ],
   "source": [
    "url = \"https://github.com/statsbomb/open-data/archive/master.zip\"\n",
    "# url = \"https://github.com/statsbomb/open-data/tree/master/data\"\n",
    "\n",
    "# Streaming, so we can iterate over the response.\n",
    "r = requests.get(url, stream=True)\n",
    "\n",
    "block_size = 1024 * 1024\n",
    "with open(statsbombzip, \"wb\") as f:\n",
    "    datastream = tqdm.tqdm(r.iter_content(block_size),unit=\"MB\")\n",
    "    for data in datastream:\n",
    "        f.write(data)"
   ]
  },
  {
   "cell_type": "code",
   "execution_count": 16,
   "metadata": {},
   "outputs": [
    {
     "data": {
      "text/plain": [
       "['matches', 'events', 'lineups', 'competitions.json']"
      ]
     },
     "execution_count": 16,
     "metadata": {},
     "output_type": "execute_result"
    }
   ],
   "source": [
    "with zipfile.ZipFile(statsbombzip, 'r') as zipObj:\n",
    "    zipObj.extractall(statsbombroot)\n",
    "\n",
    "os.listdir(statsbombdata)"
   ]
  }
 ],
 "metadata": {
  "kernelspec": {
   "display_name": "Python 3",
   "language": "python",
   "name": "python3"
  },
  "language_info": {
   "codemirror_mode": {
    "name": "ipython",
    "version": 3
   },
   "file_extension": ".py",
   "mimetype": "text/x-python",
   "name": "python",
   "nbconvert_exporter": "python",
   "pygments_lexer": "ipython3",
   "version": "3.6.4"
  }
 },
 "nbformat": 4,
 "nbformat_minor": 2
}
